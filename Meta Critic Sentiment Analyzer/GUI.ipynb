{
 "cells": [
  {
   "cell_type": "code",
   "execution_count": 1,
   "id": "117c662e",
   "metadata": {},
   "outputs": [
    {
     "name": "stdout",
     "output_type": "stream",
     "text": [
      "^C\n"
     ]
    }
   ],
   "source": []
  },
  {
   "cell_type": "code",
   "execution_count": 2,
   "id": "dc47018e",
   "metadata": {},
   "outputs": [],
   "source": [
    "import requests\n",
    "import re\n",
    "import math\n",
    "import pandas as pd\n",
    "import numpy as np\n",
    "import os\n",
    "import time\n",
    "import pickle\n",
    "from lxml import etree\n",
    "from tkinter import *\n",
    "from tkinter import messagebox\n",
    "from sklearn.feature_extraction.text import CountVectorizer\n",
    "from matplotlib.backends.backend_tkagg import FigureCanvasTkAgg\n",
    "from matplotlib.figure import Figure\n",
    "from operator import itemgetter"
   ]
  },
  {
   "cell_type": "code",
   "execution_count": 3,
   "id": "d59dbe2d",
   "metadata": {},
   "outputs": [],
   "source": [
    "NB = pickle.load(open('naivebayes.sav', 'rb'))\n",
    "vectorizer = pickle.load(open('vector.sav', 'rb'))"
   ]
  },
  {
   "cell_type": "code",
   "execution_count": 4,
   "id": "4b867f8f",
   "metadata": {},
   "outputs": [],
   "source": [
    "headers = {\n",
    "    'user-agent': 'Mozilla/5.0 (Windows NT 10.0; Win64; x64) AppleWebKit/537.36 (KHTML, like Gecko) Chrome/99.0.4844.51 Safari/537.36 Edg/99.0.1150.39'\n",
    "}"
   ]
  },
  {
   "cell_type": "code",
   "execution_count": 5,
   "id": "cac6bdae",
   "metadata": {},
   "outputs": [],
   "source": [
    "def scrape_review(link):\n",
    "    review_list = []\n",
    "    i = 0\n",
    "    \n",
    "    while True:\n",
    "        length = len(review_list)\n",
    "        url = link+'/user-reviews?page=' + str(i)\n",
    "        response = requests.get(url=url, headers=headers)\n",
    "        xml = etree.HTML(text=response.text)\n",
    "        items = xml.xpath('//div[@class=\"review pad_top1\"]')\n",
    "\n",
    "        for j in items:\n",
    "            rate = j.xpath('.//div[@class=\"left fl\"]/div/text()')\n",
    "            name = j.xpath('.//span[@class=\"author\"]/a/text()')\n",
    "            date = j.xpath('.//span[@class=\"date\"]/text()')\n",
    "            if not j.xpath('.//span[@class=\"blurb blurb_expanded\"]/text()'):\n",
    "                review = j.xpath('.//div[@class=\"review_body\"]/span/text()')\n",
    "            else:\n",
    "                review = j.xpath('.//span[@class=\"blurb blurb_expanded\"]/text()')\n",
    "\n",
    "            dic = {\n",
    "                'NAME': name,\n",
    "                'DATE': date,\n",
    "                'REVIEW': review,\n",
    "                'RATE': rate,  \n",
    "            }\n",
    "            review_list.append(dic)\n",
    "\n",
    "        i+=1\n",
    "\n",
    "        # if length remains, it means that no more reviews\n",
    "        if len(review_list) == length:\n",
    "            df = pd.DataFrame(review_list)\n",
    "            return df"
   ]
  },
  {
   "cell_type": "code",
   "execution_count": 6,
   "id": "d5d16b21",
   "metadata": {},
   "outputs": [],
   "source": [
    "def button_command():\n",
    "    global review, matrix\n",
    "    try:\n",
    "        text = entry.get()\n",
    "        review = scrape_review(text)\n",
    "\n",
    "        # remove punctuations\n",
    "        for column in review.columns:\n",
    "            review[column] = review[column].apply(lambda x: str(x))\n",
    "            review[column] = review[column].apply(lambda x: x[2:-2])\n",
    "\n",
    "        review['RATE'] = review['RATE'].apply(lambda x:int(x))\n",
    "        \n",
    "        category_name = ['Positive', 'Negative']\n",
    "        matrix = vectorizer.transform(review['REVIEW'])\n",
    "        review['PREDICT'] = NB.predict(matrix)\n",
    "        predict_count = review['PREDICT'].value_counts()\n",
    "        graph = predict_count.plot(kind='pie',\n",
    "                                   colors=['#47bfbd', '#ff3c44'],\n",
    "                                   title='PREDICTED SENTIMENT',\n",
    "                                   autopct='%1.0f%%',\n",
    "                                   labels = category_name,\n",
    "                                   figsize=(4,4)).get_figure()\n",
    "\n",
    "        counts = pd.DataFrame(matrix.toarray(), columns=vectorizer.get_feature_names())\n",
    "        lst = []\n",
    "        for i in counts.columns:\n",
    "            lst.append(i)\n",
    "\n",
    "        dic = {}\n",
    "        for i in range(len(counts.columns)):\n",
    "            dic[lst[i]] = counts[lst[i]].sum()\n",
    "\n",
    "        top = dict(sorted(dic.items(), key=itemgetter(1), reverse=True)[:10])\n",
    "        keys = list(top.keys())\n",
    "        values = list(top.values())\n",
    "\n",
    "        # Show review_count\n",
    "        rcount_label2 = Label(window, text=len(review))\n",
    "        rcount_label2.place(x=75, y=90)\n",
    "        rcount_label2.config(font=(\"Courier\", 30), fg='#ff3c44')\n",
    "\n",
    "        # Show overall_score\n",
    "        pos = (review['PREDICT'] == 1).sum()\n",
    "        neg = (review['PREDICT'] == 0).sum()\n",
    "        overall_score = round((pos/(pos+neg))*100, 2)\n",
    "        overall_label2 = Label(window, text = str(overall_score)+'%')\n",
    "        overall_label2.place(x=215, y=90)\n",
    "        overall_label2.config(font=(\"Courier\", 30))\n",
    "        if overall_score > 50:\n",
    "            overall_label2.config(fg='#47bfbd')\n",
    "        else:\n",
    "            overall_label2.config(fg='#ff3c44')\n",
    "\n",
    "        # Plot bar chart\n",
    "        plot = FigureCanvasTkAgg(graph, window)\n",
    "        plot.get_tk_widget().place(x=395, y= 75)\n",
    "\n",
    "        # Plot words frequency    \n",
    "        for i in range(10):\n",
    "            txt1 = keys[i]\n",
    "            txt2 = values[i]\n",
    "            word = Label(window, text=f'{txt1:15}\\t {values[i]}')\n",
    "            word.place(x=80, y=185+i*20)\n",
    "            word.config(font=(\"Courier\", 11))\n",
    "            \n",
    "        return review\n",
    "            \n",
    "    except Exception as e:\n",
    "        print(e)\n",
    "        messagebox.showwarning(title='WARNING', message='Invalid Link!')"
   ]
  },
  {
   "cell_type": "code",
   "execution_count": 9,
   "id": "b538f1f3",
   "metadata": {},
   "outputs": [],
   "source": [
    "def download_command():\n",
    "    try:\n",
    "        text = entry.get()\n",
    "        movie_name = re.findall('movie/(.*)', text)[0]\n",
    "        review.to_csv(movie_name + '.csv', index=False, encoding='utf-8')\n",
    "        messagebox.showinfo(title='DOWNLOAD', message='Reviews Downloaded Successfully!')\n",
    "    \n",
    "    except:\n",
    "        messagebox.showwarning(title='WARNING', message='Review Download was unsuccessful!')"
   ]
  },
  {
   "cell_type": "code",
   "execution_count": 10,
   "id": "ee5989e0",
   "metadata": {},
   "outputs": [
    {
     "name": "stdout",
     "output_type": "stream",
     "text": [
      "'RATE'\n",
      "'RATE'\n"
     ]
    }
   ],
   "source": [
    "window = Tk()\n",
    "window.geometry(\"700x450\")\n",
    "window.title('Metacritic Sentiment Analysis')\n",
    "\n",
    "entry = Entry(window, width=90)\n",
    "entry.place(x=45, y=15)\n",
    "\n",
    "btn1 = Button(window, text='Enter', command=button_command)\n",
    "btn1.place(x=600, y=10)\n",
    "\n",
    "rcount_label1 = Label(window, text='Total Reviews:')\n",
    "rcount_label1.place(x=60, y=70)\n",
    "rcount_label1.config(font=(\"Courier\", 10))\n",
    "\n",
    "overall_label1 = Label(window, text='Overall Ratings:')\n",
    "overall_label1.place(x=220, y=70)\n",
    "overall_label1.config(font=(\"Courier\", 10))\n",
    "\n",
    "word_label = Label(window, text='10 Most Frequent Word:')\n",
    "word_label.place(x=60, y=160)\n",
    "word_label.config(font=(\"Courier\", 10))\n",
    "\n",
    "btn2 = Button(window, text='Download Reviews', command=download_command)\n",
    "btn2.place(x=570, y=400)\n",
    "\n",
    "window.mainloop()"
   ]
  },
  {
   "cell_type": "code",
   "execution_count": 322,
   "id": "f4344f9f",
   "metadata": {},
   "outputs": [],
   "source": [
    "# url exmaple:\n",
    "# https://www.metacritic.com/movie/morbius\n",
    "# https://www.metacritic.com/movie/the-batman\n",
    "# https://www.metacritic.com/movie/the-godfather\n",
    "# https://www.metacritic.com/movie/the-avengers-2012\n",
    "# https://www.metacritic.com/movie/black-panther"
   ]
  },
  {
   "cell_type": "code",
   "execution_count": null,
   "id": "c1de5eab",
   "metadata": {},
   "outputs": [],
   "source": []
  }
 ],
 "metadata": {
  "kernelspec": {
   "display_name": "Python 3",
   "language": "python",
   "name": "python3"
  },
  "language_info": {
   "codemirror_mode": {
    "name": "ipython",
    "version": 3
   },
   "file_extension": ".py",
   "mimetype": "text/x-python",
   "name": "python",
   "nbconvert_exporter": "python",
   "pygments_lexer": "ipython3",
   "version": "3.12.7"
  }
 },
 "nbformat": 4,
 "nbformat_minor": 5
}
